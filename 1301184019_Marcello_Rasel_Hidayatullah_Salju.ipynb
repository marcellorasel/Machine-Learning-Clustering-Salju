{
  "nbformat": 4,
  "nbformat_minor": 0,
  "metadata": {
    "colab": {
      "name": "1301184019_Marcello Rasel Hidayatullah_Salju.ipynb",
      "provenance": [],
      "collapsed_sections": []
    },
    "kernelspec": {
      "display_name": "Python 3",
      "name": "python3"
    },
    "language_info": {
      "name": "python"
    }
  },
  "cells": [
    {
      "cell_type": "markdown",
      "metadata": {
        "id": "dT03Ht2MTXJi"
      },
      "source": [
        "#Tugas Besar Tahap 1 : Clustering\n",
        "\n",
        "**Nama  : Marcello Rasel Hidayatullah** <br>\n",
        "**NIM   : 1301184019** <br>\n",
        "**Kelas : IF-42-12**"
      ]
    },
    {
      "cell_type": "markdown",
      "metadata": {
        "id": "SUJvzy_WCJes"
      },
      "source": [
        "#**Import Library**"
      ]
    },
    {
      "cell_type": "code",
      "metadata": {
        "id": "AKqgbbG8A3wT",
        "colab": {
          "base_uri": "https://localhost:8080/"
        },
        "outputId": "8754882d-606a-4c30-9321-ce81785dd8ec"
      },
      "source": [
        "import pandas as pd\n",
        "import numpy as np\n",
        "from matplotlib import pyplot as plt\n",
        "import seaborn as sns\n",
        "from sklearn.preprocessing import MinMaxScaler\n",
        "from sklearn.preprocessing import LabelEncoder\n",
        "import random\n",
        "import math\n",
        "from google.colab import drive\n",
        "drive.mount('/content/drive')"
      ],
      "execution_count": 9,
      "outputs": [
        {
          "output_type": "stream",
          "text": [
            "Drive already mounted at /content/drive; to attempt to forcibly remount, call drive.mount(\"/content/drive\", force_remount=True).\n"
          ],
          "name": "stdout"
        }
      ]
    },
    {
      "cell_type": "markdown",
      "metadata": {
        "id": "siPK7eyfCYON"
      },
      "source": [
        "#**Import Data from Excel**"
      ]
    },
    {
      "cell_type": "code",
      "metadata": {
        "id": "w5DMjhSECcZi"
      },
      "source": [
        "# Gabung data train dan data test\n",
        "path = \"/content/drive/MyDrive/salju/salju_train.csv\"\n",
        "path2 = \"/content/drive/MyDrive/salju/salju_test.csv\"\n",
        "df1 = pd.read_csv(path)\n",
        "df2 = pd.read_csv(path2)\n",
        "\n",
        "df = pd.concat([df1, df2], ignore_index=True)\n",
        "#df.head()\n",
        "#df.tail()"
      ],
      "execution_count": 10,
      "outputs": []
    },
    {
      "cell_type": "markdown",
      "metadata": {
        "id": "6jmeQkdg0_Gp"
      },
      "source": [
        "#**Pre Processing**"
      ]
    },
    {
      "cell_type": "code",
      "metadata": {
        "colab": {
          "base_uri": "https://localhost:8080/",
          "height": 224
        },
        "id": "9Nesc5i_EHRl",
        "outputId": "c9f3bdf1-21e6-4534-f821-ad77c8db9a25"
      },
      "source": [
        "# Drop Kolom yang tidak dibutuhkan\n",
        "df = df.drop(columns=['BersaljuBesok', 'BersaljuHariIni'])\n",
        "df.head()"
      ],
      "execution_count": 11,
      "outputs": [
        {
          "output_type": "execute_result",
          "data": {
            "text/html": [
              "<div>\n",
              "<style scoped>\n",
              "    .dataframe tbody tr th:only-of-type {\n",
              "        vertical-align: middle;\n",
              "    }\n",
              "\n",
              "    .dataframe tbody tr th {\n",
              "        vertical-align: top;\n",
              "    }\n",
              "\n",
              "    .dataframe thead th {\n",
              "        text-align: right;\n",
              "    }\n",
              "</style>\n",
              "<table border=\"1\" class=\"dataframe\">\n",
              "  <thead>\n",
              "    <tr style=\"text-align: right;\">\n",
              "      <th></th>\n",
              "      <th>id</th>\n",
              "      <th>Tanggal</th>\n",
              "      <th>KodeLokasi</th>\n",
              "      <th>SuhuMin</th>\n",
              "      <th>SuhuMax</th>\n",
              "      <th>Hujan</th>\n",
              "      <th>Penguapan</th>\n",
              "      <th>SinarMatahari</th>\n",
              "      <th>ArahAnginTerkencang</th>\n",
              "      <th>KecepatanAnginTerkencang</th>\n",
              "      <th>ArahAngin9am</th>\n",
              "      <th>ArahAngin3pm</th>\n",
              "      <th>KecepatanAngin9am</th>\n",
              "      <th>KecepatanAngin3pm</th>\n",
              "      <th>Kelembaban9am</th>\n",
              "      <th>Kelembaban3pm</th>\n",
              "      <th>Tekanan9am</th>\n",
              "      <th>Tekanan3pm</th>\n",
              "      <th>Awan9am</th>\n",
              "      <th>Awan3pm</th>\n",
              "      <th>Suhu9am</th>\n",
              "      <th>Suhu3pm</th>\n",
              "    </tr>\n",
              "  </thead>\n",
              "  <tbody>\n",
              "    <tr>\n",
              "      <th>0</th>\n",
              "      <td>1.0</td>\n",
              "      <td>01/06/2014</td>\n",
              "      <td>C4</td>\n",
              "      <td>10.4</td>\n",
              "      <td>15.5</td>\n",
              "      <td>4.8</td>\n",
              "      <td>NaN</td>\n",
              "      <td>NaN</td>\n",
              "      <td>WSW</td>\n",
              "      <td>24.0</td>\n",
              "      <td>NaN</td>\n",
              "      <td>WSW</td>\n",
              "      <td>0.0</td>\n",
              "      <td>13.0</td>\n",
              "      <td>78.0</td>\n",
              "      <td>76.0</td>\n",
              "      <td>1020.1</td>\n",
              "      <td>1018.5</td>\n",
              "      <td>NaN</td>\n",
              "      <td>NaN</td>\n",
              "      <td>13.1</td>\n",
              "      <td>15.0</td>\n",
              "    </tr>\n",
              "    <tr>\n",
              "      <th>1</th>\n",
              "      <td>2.0</td>\n",
              "      <td>15/07/2014</td>\n",
              "      <td>C10</td>\n",
              "      <td>9.0</td>\n",
              "      <td>17.0</td>\n",
              "      <td>8.0</td>\n",
              "      <td>2.6</td>\n",
              "      <td>7.4</td>\n",
              "      <td>NaN</td>\n",
              "      <td>NaN</td>\n",
              "      <td>SW</td>\n",
              "      <td>WNW</td>\n",
              "      <td>13.0</td>\n",
              "      <td>20.0</td>\n",
              "      <td>80.0</td>\n",
              "      <td>61.0</td>\n",
              "      <td>1015.2</td>\n",
              "      <td>1014.6</td>\n",
              "      <td>7.0</td>\n",
              "      <td>5.0</td>\n",
              "      <td>11.9</td>\n",
              "      <td>15.5</td>\n",
              "    </tr>\n",
              "    <tr>\n",
              "      <th>2</th>\n",
              "      <td>3.0</td>\n",
              "      <td>16/02/2011</td>\n",
              "      <td>C46</td>\n",
              "      <td>18.2</td>\n",
              "      <td>32.0</td>\n",
              "      <td>0.0</td>\n",
              "      <td>NaN</td>\n",
              "      <td>NaN</td>\n",
              "      <td>ESE</td>\n",
              "      <td>44.0</td>\n",
              "      <td>SE</td>\n",
              "      <td>SE</td>\n",
              "      <td>15.0</td>\n",
              "      <td>26.0</td>\n",
              "      <td>62.0</td>\n",
              "      <td>42.0</td>\n",
              "      <td>NaN</td>\n",
              "      <td>NaN</td>\n",
              "      <td>NaN</td>\n",
              "      <td>NaN</td>\n",
              "      <td>23.8</td>\n",
              "      <td>29.6</td>\n",
              "    </tr>\n",
              "    <tr>\n",
              "      <th>3</th>\n",
              "      <td>4.0</td>\n",
              "      <td>08/08/2012</td>\n",
              "      <td>C36</td>\n",
              "      <td>7.3</td>\n",
              "      <td>24.5</td>\n",
              "      <td>0.0</td>\n",
              "      <td>8.4</td>\n",
              "      <td>10.4</td>\n",
              "      <td>SSW</td>\n",
              "      <td>54.0</td>\n",
              "      <td>N</td>\n",
              "      <td>SW</td>\n",
              "      <td>13.0</td>\n",
              "      <td>19.0</td>\n",
              "      <td>25.0</td>\n",
              "      <td>17.0</td>\n",
              "      <td>1019.2</td>\n",
              "      <td>1016.9</td>\n",
              "      <td>1.0</td>\n",
              "      <td>7.0</td>\n",
              "      <td>15.3</td>\n",
              "      <td>23.2</td>\n",
              "    </tr>\n",
              "    <tr>\n",
              "      <th>4</th>\n",
              "      <td>5.0</td>\n",
              "      <td>29/10/2016</td>\n",
              "      <td>C7</td>\n",
              "      <td>5.9</td>\n",
              "      <td>20.3</td>\n",
              "      <td>0.0</td>\n",
              "      <td>3.6</td>\n",
              "      <td>12.6</td>\n",
              "      <td>N</td>\n",
              "      <td>37.0</td>\n",
              "      <td>NNW</td>\n",
              "      <td>ESE</td>\n",
              "      <td>22.0</td>\n",
              "      <td>19.0</td>\n",
              "      <td>55.0</td>\n",
              "      <td>48.0</td>\n",
              "      <td>1019.7</td>\n",
              "      <td>1014.7</td>\n",
              "      <td>2.0</td>\n",
              "      <td>6.0</td>\n",
              "      <td>12.4</td>\n",
              "      <td>18.1</td>\n",
              "    </tr>\n",
              "  </tbody>\n",
              "</table>\n",
              "</div>"
            ],
            "text/plain": [
              "    id     Tanggal KodeLokasi  SuhuMin  ...  Awan9am  Awan3pm  Suhu9am  Suhu3pm\n",
              "0  1.0  01/06/2014         C4     10.4  ...      NaN      NaN     13.1     15.0\n",
              "1  2.0  15/07/2014        C10      9.0  ...      7.0      5.0     11.9     15.5\n",
              "2  3.0  16/02/2011        C46     18.2  ...      NaN      NaN     23.8     29.6\n",
              "3  4.0  08/08/2012        C36      7.3  ...      1.0      7.0     15.3     23.2\n",
              "4  5.0  29/10/2016         C7      5.9  ...      2.0      6.0     12.4     18.1\n",
              "\n",
              "[5 rows x 22 columns]"
            ]
          },
          "metadata": {
            "tags": []
          },
          "execution_count": 11
        }
      ]
    },
    {
      "cell_type": "markdown",
      "metadata": {
        "id": "J3JNrmqvYRnG"
      },
      "source": [
        "Mengecek Missing Values"
      ]
    },
    {
      "cell_type": "code",
      "metadata": {
        "colab": {
          "base_uri": "https://localhost:8080/"
        },
        "id": "k4-wZ8jj1CfL",
        "outputId": "fb8e6c80-768e-48b1-b096-0a229b59b79a"
      },
      "source": [
        "# Mengecek Nilai null\n",
        "#df.info()\n",
        "df.isnull().sum()"
      ],
      "execution_count": 12,
      "outputs": [
        {
          "output_type": "execute_result",
          "data": {
            "text/plain": [
              "id                          18182\n",
              "Tanggal                         0\n",
              "KodeLokasi                      0\n",
              "SuhuMin                      1287\n",
              "SuhuMax                      1094\n",
              "Hujan                        2818\n",
              "Penguapan                   54880\n",
              "SinarMatahari               61097\n",
              "ArahAnginTerkencang          9025\n",
              "KecepatanAnginTerkencang     8970\n",
              "ArahAngin9am                 9231\n",
              "ArahAngin3pm                 3693\n",
              "KecepatanAngin9am            1551\n",
              "KecepatanAngin3pm            2657\n",
              "Kelembaban9am                2332\n",
              "Kelembaban3pm                3922\n",
              "Tekanan9am                  13192\n",
              "Tekanan3pm                  13161\n",
              "Awan9am                     48886\n",
              "Awan3pm                     51927\n",
              "Suhu9am                      1559\n",
              "Suhu3pm                      3140\n",
              "dtype: int64"
            ]
          },
          "metadata": {
            "tags": []
          },
          "execution_count": 12
        }
      ]
    },
    {
      "cell_type": "markdown",
      "metadata": {
        "id": "K9B0FSqFkaAb"
      },
      "source": [
        "Mengatasi Missing Values"
      ]
    },
    {
      "cell_type": "code",
      "metadata": {
        "colab": {
          "base_uri": "https://localhost:8080/",
          "height": 224
        },
        "id": "R3SFkq2KYXX1",
        "outputId": "11f3e1c0-c74c-41da-bf99-f354022270cf"
      },
      "source": [
        "df.fillna(df.median(), inplace=True)            # Nilai Numeric diisi dengan nilai median\n",
        "df = df.fillna(df.mode().iloc[0])               # Nilai String diisi dengan nilai yang paling sering muncul pada atribut\n",
        "\n",
        "df.head()"
      ],
      "execution_count": 13,
      "outputs": [
        {
          "output_type": "execute_result",
          "data": {
            "text/html": [
              "<div>\n",
              "<style scoped>\n",
              "    .dataframe tbody tr th:only-of-type {\n",
              "        vertical-align: middle;\n",
              "    }\n",
              "\n",
              "    .dataframe tbody tr th {\n",
              "        vertical-align: top;\n",
              "    }\n",
              "\n",
              "    .dataframe thead th {\n",
              "        text-align: right;\n",
              "    }\n",
              "</style>\n",
              "<table border=\"1\" class=\"dataframe\">\n",
              "  <thead>\n",
              "    <tr style=\"text-align: right;\">\n",
              "      <th></th>\n",
              "      <th>id</th>\n",
              "      <th>Tanggal</th>\n",
              "      <th>KodeLokasi</th>\n",
              "      <th>SuhuMin</th>\n",
              "      <th>SuhuMax</th>\n",
              "      <th>Hujan</th>\n",
              "      <th>Penguapan</th>\n",
              "      <th>SinarMatahari</th>\n",
              "      <th>ArahAnginTerkencang</th>\n",
              "      <th>KecepatanAnginTerkencang</th>\n",
              "      <th>ArahAngin9am</th>\n",
              "      <th>ArahAngin3pm</th>\n",
              "      <th>KecepatanAngin9am</th>\n",
              "      <th>KecepatanAngin3pm</th>\n",
              "      <th>Kelembaban9am</th>\n",
              "      <th>Kelembaban3pm</th>\n",
              "      <th>Tekanan9am</th>\n",
              "      <th>Tekanan3pm</th>\n",
              "      <th>Awan9am</th>\n",
              "      <th>Awan3pm</th>\n",
              "      <th>Suhu9am</th>\n",
              "      <th>Suhu3pm</th>\n",
              "    </tr>\n",
              "  </thead>\n",
              "  <tbody>\n",
              "    <tr>\n",
              "      <th>0</th>\n",
              "      <td>1.0</td>\n",
              "      <td>01/06/2014</td>\n",
              "      <td>C4</td>\n",
              "      <td>10.4</td>\n",
              "      <td>15.5</td>\n",
              "      <td>4.8</td>\n",
              "      <td>4.8</td>\n",
              "      <td>8.4</td>\n",
              "      <td>WSW</td>\n",
              "      <td>24.0</td>\n",
              "      <td>N</td>\n",
              "      <td>WSW</td>\n",
              "      <td>0.0</td>\n",
              "      <td>13.0</td>\n",
              "      <td>78.0</td>\n",
              "      <td>76.0</td>\n",
              "      <td>1020.1</td>\n",
              "      <td>1018.5</td>\n",
              "      <td>5.0</td>\n",
              "      <td>5.0</td>\n",
              "      <td>13.1</td>\n",
              "      <td>15.0</td>\n",
              "    </tr>\n",
              "    <tr>\n",
              "      <th>1</th>\n",
              "      <td>2.0</td>\n",
              "      <td>15/07/2014</td>\n",
              "      <td>C10</td>\n",
              "      <td>9.0</td>\n",
              "      <td>17.0</td>\n",
              "      <td>8.0</td>\n",
              "      <td>2.6</td>\n",
              "      <td>7.4</td>\n",
              "      <td>W</td>\n",
              "      <td>39.0</td>\n",
              "      <td>SW</td>\n",
              "      <td>WNW</td>\n",
              "      <td>13.0</td>\n",
              "      <td>20.0</td>\n",
              "      <td>80.0</td>\n",
              "      <td>61.0</td>\n",
              "      <td>1015.2</td>\n",
              "      <td>1014.6</td>\n",
              "      <td>7.0</td>\n",
              "      <td>5.0</td>\n",
              "      <td>11.9</td>\n",
              "      <td>15.5</td>\n",
              "    </tr>\n",
              "    <tr>\n",
              "      <th>2</th>\n",
              "      <td>3.0</td>\n",
              "      <td>16/02/2011</td>\n",
              "      <td>C46</td>\n",
              "      <td>18.2</td>\n",
              "      <td>32.0</td>\n",
              "      <td>0.0</td>\n",
              "      <td>4.8</td>\n",
              "      <td>8.4</td>\n",
              "      <td>ESE</td>\n",
              "      <td>44.0</td>\n",
              "      <td>SE</td>\n",
              "      <td>SE</td>\n",
              "      <td>15.0</td>\n",
              "      <td>26.0</td>\n",
              "      <td>62.0</td>\n",
              "      <td>42.0</td>\n",
              "      <td>1017.6</td>\n",
              "      <td>1015.2</td>\n",
              "      <td>5.0</td>\n",
              "      <td>5.0</td>\n",
              "      <td>23.8</td>\n",
              "      <td>29.6</td>\n",
              "    </tr>\n",
              "    <tr>\n",
              "      <th>3</th>\n",
              "      <td>4.0</td>\n",
              "      <td>08/08/2012</td>\n",
              "      <td>C36</td>\n",
              "      <td>7.3</td>\n",
              "      <td>24.5</td>\n",
              "      <td>0.0</td>\n",
              "      <td>8.4</td>\n",
              "      <td>10.4</td>\n",
              "      <td>SSW</td>\n",
              "      <td>54.0</td>\n",
              "      <td>N</td>\n",
              "      <td>SW</td>\n",
              "      <td>13.0</td>\n",
              "      <td>19.0</td>\n",
              "      <td>25.0</td>\n",
              "      <td>17.0</td>\n",
              "      <td>1019.2</td>\n",
              "      <td>1016.9</td>\n",
              "      <td>1.0</td>\n",
              "      <td>7.0</td>\n",
              "      <td>15.3</td>\n",
              "      <td>23.2</td>\n",
              "    </tr>\n",
              "    <tr>\n",
              "      <th>4</th>\n",
              "      <td>5.0</td>\n",
              "      <td>29/10/2016</td>\n",
              "      <td>C7</td>\n",
              "      <td>5.9</td>\n",
              "      <td>20.3</td>\n",
              "      <td>0.0</td>\n",
              "      <td>3.6</td>\n",
              "      <td>12.6</td>\n",
              "      <td>N</td>\n",
              "      <td>37.0</td>\n",
              "      <td>NNW</td>\n",
              "      <td>ESE</td>\n",
              "      <td>22.0</td>\n",
              "      <td>19.0</td>\n",
              "      <td>55.0</td>\n",
              "      <td>48.0</td>\n",
              "      <td>1019.7</td>\n",
              "      <td>1014.7</td>\n",
              "      <td>2.0</td>\n",
              "      <td>6.0</td>\n",
              "      <td>12.4</td>\n",
              "      <td>18.1</td>\n",
              "    </tr>\n",
              "  </tbody>\n",
              "</table>\n",
              "</div>"
            ],
            "text/plain": [
              "    id     Tanggal KodeLokasi  SuhuMin  ...  Awan9am  Awan3pm  Suhu9am  Suhu3pm\n",
              "0  1.0  01/06/2014         C4     10.4  ...      5.0      5.0     13.1     15.0\n",
              "1  2.0  15/07/2014        C10      9.0  ...      7.0      5.0     11.9     15.5\n",
              "2  3.0  16/02/2011        C46     18.2  ...      5.0      5.0     23.8     29.6\n",
              "3  4.0  08/08/2012        C36      7.3  ...      1.0      7.0     15.3     23.2\n",
              "4  5.0  29/10/2016         C7      5.9  ...      2.0      6.0     12.4     18.1\n",
              "\n",
              "[5 rows x 22 columns]"
            ]
          },
          "metadata": {
            "tags": []
          },
          "execution_count": 13
        }
      ]
    },
    {
      "cell_type": "markdown",
      "metadata": {
        "id": "ecMnRvH5uIYb"
      },
      "source": [
        "Numerical"
      ]
    },
    {
      "cell_type": "code",
      "metadata": {
        "colab": {
          "base_uri": "https://localhost:8080/",
          "height": 204
        },
        "id": "un4hXA-zuHLb",
        "outputId": "e7a4e1ff-6658-4d18-ec7f-5c1391380a49"
      },
      "source": [
        "# Memilih Kolom yang berisi nilai Numerical\n",
        "ndf = pd.DataFrame(columns = ['SuhuMin', 'SuhuMax', 'Hujan', 'Penguapan', 'SinarMatahari', 'KecepatanAngin3pm', 'Kelembaban3pm', 'Tekanan3pm', 'Awan3pm', 'Suhu3pm'])\n",
        "ndf['SuhuMin'] = df['SuhuMin']\n",
        "ndf['SuhuMax'] = df['SuhuMax']\n",
        "ndf['Hujan'] = df['Hujan']\n",
        "ndf['Penguapan'] = df['Penguapan']\n",
        "ndf['SinarMatahari'] = df['SinarMatahari']\n",
        "ndf['KecepatanAngin3pm'] = df['KecepatanAngin3pm']\n",
        "ndf['Kelembaban3pm'] = df['Kelembaban3pm']\n",
        "ndf['Tekanan3pm'] = df['Tekanan3pm']\n",
        "ndf['Awan3pm'] = df['Awan3pm']\n",
        "ndf['Suhu3pm'] = df['Suhu3pm']\n",
        "ndf.head()"
      ],
      "execution_count": 14,
      "outputs": [
        {
          "output_type": "execute_result",
          "data": {
            "text/html": [
              "<div>\n",
              "<style scoped>\n",
              "    .dataframe tbody tr th:only-of-type {\n",
              "        vertical-align: middle;\n",
              "    }\n",
              "\n",
              "    .dataframe tbody tr th {\n",
              "        vertical-align: top;\n",
              "    }\n",
              "\n",
              "    .dataframe thead th {\n",
              "        text-align: right;\n",
              "    }\n",
              "</style>\n",
              "<table border=\"1\" class=\"dataframe\">\n",
              "  <thead>\n",
              "    <tr style=\"text-align: right;\">\n",
              "      <th></th>\n",
              "      <th>SuhuMin</th>\n",
              "      <th>SuhuMax</th>\n",
              "      <th>Hujan</th>\n",
              "      <th>Penguapan</th>\n",
              "      <th>SinarMatahari</th>\n",
              "      <th>KecepatanAngin3pm</th>\n",
              "      <th>Kelembaban3pm</th>\n",
              "      <th>Tekanan3pm</th>\n",
              "      <th>Awan3pm</th>\n",
              "      <th>Suhu3pm</th>\n",
              "    </tr>\n",
              "  </thead>\n",
              "  <tbody>\n",
              "    <tr>\n",
              "      <th>0</th>\n",
              "      <td>10.4</td>\n",
              "      <td>15.5</td>\n",
              "      <td>4.8</td>\n",
              "      <td>4.8</td>\n",
              "      <td>8.4</td>\n",
              "      <td>13.0</td>\n",
              "      <td>76.0</td>\n",
              "      <td>1018.5</td>\n",
              "      <td>5.0</td>\n",
              "      <td>15.0</td>\n",
              "    </tr>\n",
              "    <tr>\n",
              "      <th>1</th>\n",
              "      <td>9.0</td>\n",
              "      <td>17.0</td>\n",
              "      <td>8.0</td>\n",
              "      <td>2.6</td>\n",
              "      <td>7.4</td>\n",
              "      <td>20.0</td>\n",
              "      <td>61.0</td>\n",
              "      <td>1014.6</td>\n",
              "      <td>5.0</td>\n",
              "      <td>15.5</td>\n",
              "    </tr>\n",
              "    <tr>\n",
              "      <th>2</th>\n",
              "      <td>18.2</td>\n",
              "      <td>32.0</td>\n",
              "      <td>0.0</td>\n",
              "      <td>4.8</td>\n",
              "      <td>8.4</td>\n",
              "      <td>26.0</td>\n",
              "      <td>42.0</td>\n",
              "      <td>1015.2</td>\n",
              "      <td>5.0</td>\n",
              "      <td>29.6</td>\n",
              "    </tr>\n",
              "    <tr>\n",
              "      <th>3</th>\n",
              "      <td>7.3</td>\n",
              "      <td>24.5</td>\n",
              "      <td>0.0</td>\n",
              "      <td>8.4</td>\n",
              "      <td>10.4</td>\n",
              "      <td>19.0</td>\n",
              "      <td>17.0</td>\n",
              "      <td>1016.9</td>\n",
              "      <td>7.0</td>\n",
              "      <td>23.2</td>\n",
              "    </tr>\n",
              "    <tr>\n",
              "      <th>4</th>\n",
              "      <td>5.9</td>\n",
              "      <td>20.3</td>\n",
              "      <td>0.0</td>\n",
              "      <td>3.6</td>\n",
              "      <td>12.6</td>\n",
              "      <td>19.0</td>\n",
              "      <td>48.0</td>\n",
              "      <td>1014.7</td>\n",
              "      <td>6.0</td>\n",
              "      <td>18.1</td>\n",
              "    </tr>\n",
              "  </tbody>\n",
              "</table>\n",
              "</div>"
            ],
            "text/plain": [
              "   SuhuMin  SuhuMax  Hujan  ...  Tekanan3pm  Awan3pm  Suhu3pm\n",
              "0     10.4     15.5    4.8  ...      1018.5      5.0     15.0\n",
              "1      9.0     17.0    8.0  ...      1014.6      5.0     15.5\n",
              "2     18.2     32.0    0.0  ...      1015.2      5.0     29.6\n",
              "3      7.3     24.5    0.0  ...      1016.9      7.0     23.2\n",
              "4      5.9     20.3    0.0  ...      1014.7      6.0     18.1\n",
              "\n",
              "[5 rows x 10 columns]"
            ]
          },
          "metadata": {
            "tags": []
          },
          "execution_count": 14
        }
      ]
    },
    {
      "cell_type": "markdown",
      "metadata": {
        "id": "mNw_sFcBYZGY"
      },
      "source": [
        "Mengecek Outliers"
      ]
    },
    {
      "cell_type": "code",
      "metadata": {
        "id": "ZTsF_aRHYZPH"
      },
      "source": [
        "# Fungsi menentukan batas atas dan bawah dengan Interquartille Range\n",
        "def Outliers(x):\n",
        "  q1 = x.quantile(0.25)\n",
        "  q3 = x.quantile(0.75)\n",
        "  iqr = q3 - q1\n",
        "  low = q1 - (1.5*iqr)\n",
        "  up = q3 + (1.5*iqr)\n",
        "\n",
        "  return low, up\n",
        "\n",
        "# Melihat batas bawah dan atas Outliers\n",
        "smin_low, smin_up = Outliers(ndf['SuhuMin'])\n",
        "smax_low, smax_up = Outliers(ndf['SuhuMax'])\n",
        "hujan_low, hujan_up = Outliers(ndf['Hujan'])\n",
        "penguapan_low, penguapan_up = Outliers(ndf['Penguapan'])\n",
        "sm_low, sm_up = Outliers(ndf['SinarMatahari'])\n",
        "kec3pm_low, kec3pm_up = Outliers(ndf['KecepatanAngin3pm'])\n",
        "kel3pm_low, kel3pm_up = Outliers(ndf['Kelembaban3pm'])\n",
        "tekanan_low, tekanan_up = Outliers(ndf['Tekanan3pm'])\n",
        "awan3pm_low, awan3pm_up = Outliers(ndf['Awan3pm'])\n",
        "s3pm_low, s3pm_up = Outliers(ndf['Suhu3pm'])"
      ],
      "execution_count": 15,
      "outputs": []
    },
    {
      "cell_type": "code",
      "metadata": {
        "colab": {
          "base_uri": "https://localhost:8080/",
          "height": 877
        },
        "id": "bYTWo9Htd0FK",
        "outputId": "470cd120-1ef2-423b-bfeb-6a4679ada81c"
      },
      "source": [
        "fig, axes = plt.subplots(ncols=3, nrows=3, figsize=(20, 15))\n",
        "for i, ax in zip(ndf.columns, axes.flat):\n",
        "  sns.boxplot(x=ndf[i], ax=ax)\n",
        "plt.show()"
      ],
      "execution_count": 16,
      "outputs": [
        {
          "output_type": "display_data",
          "data": {
            "image/png": "[encoded data removed]",
            "text/plain": [
              "<Figure size 1440x1080 with 9 Axes>"
            ]
          },
          "metadata": {
            "tags": [],
            "needs_background": "light"
          }
        }
      ]
    },
    {
      "cell_type": "code",
      "metadata": {
        "colab": {
          "base_uri": "https://localhost:8080/"
        },
        "id": "5Cl2bh51hteU",
        "outputId": "c3740dc4-149f-4e23-c6a9-b23b16f888bc"
      },
      "source": [
        "ndf.shape"
      ],
      "execution_count": 17,
      "outputs": [
        {
          "output_type": "execute_result",
          "data": {
            "text/plain": [
              "(127277, 10)"
            ]
          },
          "metadata": {
            "tags": []
          },
          "execution_count": 17
        }
      ]
    },
    {
      "cell_type": "markdown",
      "metadata": {
        "id": "Kb1z2Tf6ePNR"
      },
      "source": [
        "Mengatasi Outliers"
      ]
    },
    {
      "cell_type": "code",
      "metadata": {
        "id": "YjWKXekqeRJc"
      },
      "source": [
        "# Mengganti Nilai Outliers\n",
        "for column in ndf.columns:\n",
        "  ndf[column] = np.where((ndf[column] > smin_low) | (ndf[column] < smin_up), ndf[column], ndf[column].mean())"
      ],
      "execution_count": 18,
      "outputs": []
    },
    {
      "cell_type": "code",
      "metadata": {
        "colab": {
          "base_uri": "https://localhost:8080/"
        },
        "id": "jHlKhm5nh1Ho",
        "outputId": "45eda926-75b6-4e22-f09c-fa8ac424a1f3"
      },
      "source": [
        "ndf.shape"
      ],
      "execution_count": 19,
      "outputs": [
        {
          "output_type": "execute_result",
          "data": {
            "text/plain": [
              "(127277, 10)"
            ]
          },
          "metadata": {
            "tags": []
          },
          "execution_count": 19
        }
      ]
    },
    {
      "cell_type": "code",
      "metadata": {
        "colab": {
          "base_uri": "https://localhost:8080/",
          "height": 877
        },
        "id": "Cz1cp7rwiLmr",
        "outputId": "cd1f8f11-5cd6-4373-d2d0-123275fffc04"
      },
      "source": [
        "fig, axes = plt.subplots(ncols=3, nrows=3, figsize=(20, 15))\n",
        "for i, ax in zip(ndf.columns, axes.flat):\n",
        "  sns.boxplot(x=ndf[i], ax=ax)\n",
        "plt.show()"
      ],
      "execution_count": 20,
      "outputs": [
        {
          "output_type": "display_data",
          "data": {
            "image/png": "[encoded data removed]",
            "text/plain": [
              "<Figure size 1440x1080 with 9 Axes>"
            ]
          },
          "metadata": {
            "tags": [],
            "needs_background": "light"
          }
        }
      ]
    },
    {
      "cell_type": "markdown",
      "metadata": {
        "id": "jb7jRRpFu4MO"
      },
      "source": [
        "Melihat Korelasi"
      ]
    },
    {
      "cell_type": "code",
      "metadata": {
        "colab": {
          "base_uri": "https://localhost:8080/",
          "height": 978
        },
        "id": "ZYB2X1o8u33X",
        "outputId": "32181ef2-0f5d-4be7-8be8-0dcf9ccc5ba0"
      },
      "source": [
        "# Korelasi\n",
        "corr = ndf.corr()\n",
        "\n",
        "plt.figure(figsize=(20, 15))\n",
        "sns.heatmap(corr, annot=True)"
      ],
      "execution_count": 21,
      "outputs": [
        {
          "output_type": "execute_result",
          "data": {
            "text/plain": [
              "<matplotlib.axes._subplots.AxesSubplot at 0x7f00d9cd6b90>"
            ]
          },
          "metadata": {
            "tags": []
          },
          "execution_count": 21
        },
        {
          "output_type": "display_data",
          "data": {
            "image/png": "[encoded data removed]",
            "text/plain": [
              "<Figure size 1440x1080 with 2 Axes>"
            ]
          },
          "metadata": {
            "tags": [],
            "needs_background": "light"
          }
        }
      ]
    },
    {
      "cell_type": "markdown",
      "metadata": {
        "id": "aJPoBTXkkcTT"
      },
      "source": [
        "Normalisasi"
      ]
    },
    {
      "cell_type": "code",
      "metadata": {
        "id": "nLh5WtR6-YNR"
      },
      "source": [
        "columns_new = ndf.columns"
      ],
      "execution_count": 22,
      "outputs": []
    },
    {
      "cell_type": "code",
      "metadata": {
        "colab": {
          "base_uri": "https://localhost:8080/",
          "height": 419
        },
        "id": "GYM75ZQwkePy",
        "outputId": "decbf952-19fc-48e0-8f0b-091c688fb08e"
      },
      "source": [
        "# MinMax Scaler\n",
        "scaler = MinMaxScaler()\n",
        "norm_df = scaler.fit_transform(ndf)\n",
        "norm_df_scalled = pd.DataFrame(norm_df, columns=columns_new)\n",
        "\n",
        "norm_df_scalled"
      ],
      "execution_count": 23,
      "outputs": [
        {
          "output_type": "execute_result",
          "data": {
            "text/html": [
              "<div>\n",
              "<style scoped>\n",
              "    .dataframe tbody tr th:only-of-type {\n",
              "        vertical-align: middle;\n",
              "    }\n",
              "\n",
              "    .dataframe tbody tr th {\n",
              "        vertical-align: top;\n",
              "    }\n",
              "\n",
              "    .dataframe thead th {\n",
              "        text-align: right;\n",
              "    }\n",
              "</style>\n",
              "<table border=\"1\" class=\"dataframe\">\n",
              "  <thead>\n",
              "    <tr style=\"text-align: right;\">\n",
              "      <th></th>\n",
              "      <th>SuhuMin</th>\n",
              "      <th>SuhuMax</th>\n",
              "      <th>Hujan</th>\n",
              "      <th>Penguapan</th>\n",
              "      <th>SinarMatahari</th>\n",
              "      <th>KecepatanAngin3pm</th>\n",
              "      <th>Kelembaban3pm</th>\n",
              "      <th>Tekanan3pm</th>\n",
              "      <th>Awan3pm</th>\n",
              "      <th>Suhu3pm</th>\n",
              "    </tr>\n",
              "  </thead>\n",
              "  <tbody>\n",
              "    <tr>\n",
              "      <th>0</th>\n",
              "      <td>0.445755</td>\n",
              "      <td>0.383743</td>\n",
              "      <td>0.012938</td>\n",
              "      <td>0.033103</td>\n",
              "      <td>0.579310</td>\n",
              "      <td>0.149425</td>\n",
              "      <td>0.76</td>\n",
              "      <td>0.6624</td>\n",
              "      <td>0.555556</td>\n",
              "      <td>0.391555</td>\n",
              "    </tr>\n",
              "    <tr>\n",
              "      <th>1</th>\n",
              "      <td>0.412736</td>\n",
              "      <td>0.412098</td>\n",
              "      <td>0.021563</td>\n",
              "      <td>0.017931</td>\n",
              "      <td>0.510345</td>\n",
              "      <td>0.229885</td>\n",
              "      <td>0.61</td>\n",
              "      <td>0.6000</td>\n",
              "      <td>0.555556</td>\n",
              "      <td>0.401152</td>\n",
              "    </tr>\n",
              "    <tr>\n",
              "      <th>2</th>\n",
              "      <td>0.629717</td>\n",
              "      <td>0.695652</td>\n",
              "      <td>0.000000</td>\n",
              "      <td>0.033103</td>\n",
              "      <td>0.579310</td>\n",
              "      <td>0.298851</td>\n",
              "      <td>0.42</td>\n",
              "      <td>0.6096</td>\n",
              "      <td>0.555556</td>\n",
              "      <td>0.671785</td>\n",
              "    </tr>\n",
              "    <tr>\n",
              "      <th>3</th>\n",
              "      <td>0.372642</td>\n",
              "      <td>0.553875</td>\n",
              "      <td>0.000000</td>\n",
              "      <td>0.057931</td>\n",
              "      <td>0.717241</td>\n",
              "      <td>0.218391</td>\n",
              "      <td>0.17</td>\n",
              "      <td>0.6368</td>\n",
              "      <td>0.777778</td>\n",
              "      <td>0.548944</td>\n",
              "    </tr>\n",
              "    <tr>\n",
              "      <th>4</th>\n",
              "      <td>0.339623</td>\n",
              "      <td>0.474480</td>\n",
              "      <td>0.000000</td>\n",
              "      <td>0.024828</td>\n",
              "      <td>0.868966</td>\n",
              "      <td>0.218391</td>\n",
              "      <td>0.48</td>\n",
              "      <td>0.6016</td>\n",
              "      <td>0.666667</td>\n",
              "      <td>0.451056</td>\n",
              "    </tr>\n",
              "    <tr>\n",
              "      <th>...</th>\n",
              "      <td>...</td>\n",
              "      <td>...</td>\n",
              "      <td>...</td>\n",
              "      <td>...</td>\n",
              "      <td>...</td>\n",
              "      <td>...</td>\n",
              "      <td>...</td>\n",
              "      <td>...</td>\n",
              "      <td>...</td>\n",
              "      <td>...</td>\n",
              "    </tr>\n",
              "    <tr>\n",
              "      <th>127272</th>\n",
              "      <td>0.384434</td>\n",
              "      <td>0.578450</td>\n",
              "      <td>0.000000</td>\n",
              "      <td>0.055172</td>\n",
              "      <td>0.910345</td>\n",
              "      <td>0.149425</td>\n",
              "      <td>0.21</td>\n",
              "      <td>0.5936</td>\n",
              "      <td>0.111111</td>\n",
              "      <td>0.564299</td>\n",
              "    </tr>\n",
              "    <tr>\n",
              "      <th>127273</th>\n",
              "      <td>0.492925</td>\n",
              "      <td>0.593573</td>\n",
              "      <td>0.000000</td>\n",
              "      <td>0.055172</td>\n",
              "      <td>0.800000</td>\n",
              "      <td>0.229885</td>\n",
              "      <td>0.25</td>\n",
              "      <td>0.6656</td>\n",
              "      <td>0.111111</td>\n",
              "      <td>0.596929</td>\n",
              "    </tr>\n",
              "    <tr>\n",
              "      <th>127274</th>\n",
              "      <td>0.358491</td>\n",
              "      <td>0.523629</td>\n",
              "      <td>0.000000</td>\n",
              "      <td>0.033103</td>\n",
              "      <td>0.579310</td>\n",
              "      <td>0.045977</td>\n",
              "      <td>0.35</td>\n",
              "      <td>0.6096</td>\n",
              "      <td>0.222222</td>\n",
              "      <td>0.525912</td>\n",
              "    </tr>\n",
              "    <tr>\n",
              "      <th>127275</th>\n",
              "      <td>0.495283</td>\n",
              "      <td>0.595463</td>\n",
              "      <td>0.000000</td>\n",
              "      <td>0.062069</td>\n",
              "      <td>0.744828</td>\n",
              "      <td>0.298851</td>\n",
              "      <td>0.45</td>\n",
              "      <td>0.6560</td>\n",
              "      <td>0.555556</td>\n",
              "      <td>0.591171</td>\n",
              "    </tr>\n",
              "    <tr>\n",
              "      <th>127276</th>\n",
              "      <td>0.490566</td>\n",
              "      <td>0.391304</td>\n",
              "      <td>0.022102</td>\n",
              "      <td>0.033103</td>\n",
              "      <td>0.579310</td>\n",
              "      <td>0.172414</td>\n",
              "      <td>0.74</td>\n",
              "      <td>0.6096</td>\n",
              "      <td>0.555556</td>\n",
              "      <td>0.399232</td>\n",
              "    </tr>\n",
              "  </tbody>\n",
              "</table>\n",
              "<p>127277 rows × 10 columns</p>\n",
              "</div>"
            ],
            "text/plain": [
              "         SuhuMin   SuhuMax     Hujan  ...  Tekanan3pm   Awan3pm   Suhu3pm\n",
              "0       0.445755  0.383743  0.012938  ...      0.6624  0.555556  0.391555\n",
              "1       0.412736  0.412098  0.021563  ...      0.6000  0.555556  0.401152\n",
              "2       0.629717  0.695652  0.000000  ...      0.6096  0.555556  0.671785\n",
              "3       0.372642  0.553875  0.000000  ...      0.6368  0.777778  0.548944\n",
              "4       0.339623  0.474480  0.000000  ...      0.6016  0.666667  0.451056\n",
              "...          ...       ...       ...  ...         ...       ...       ...\n",
              "127272  0.384434  0.578450  0.000000  ...      0.5936  0.111111  0.564299\n",
              "127273  0.492925  0.593573  0.000000  ...      0.6656  0.111111  0.596929\n",
              "127274  0.358491  0.523629  0.000000  ...      0.6096  0.222222  0.525912\n",
              "127275  0.495283  0.595463  0.000000  ...      0.6560  0.555556  0.591171\n",
              "127276  0.490566  0.391304  0.022102  ...      0.6096  0.555556  0.399232\n",
              "\n",
              "[127277 rows x 10 columns]"
            ]
          },
          "metadata": {
            "tags": []
          },
          "execution_count": 23
        }
      ]
    },
    {
      "cell_type": "markdown",
      "metadata": {
        "id": "R8tXaHuFDfPX"
      },
      "source": [
        "#**Clustering**"
      ]
    },
    {
      "cell_type": "code",
      "metadata": {
        "id": "UQVP96DbD2IM"
      },
      "source": [
        "# Fungsi menghitung jarak menggunakan Euclidean\n",
        "def Euclidean(data1, data2):\n",
        "  return sum(((data1[i] - data2[i]) ** 2) for i in range(len(data1))) ** 0.5"
      ],
      "execution_count": 24,
      "outputs": []
    },
    {
      "cell_type": "code",
      "metadata": {
        "id": "AL73BkFeINoS"
      },
      "source": [
        "# Fungsi Update Centroid\n",
        "def update(centroid, cluster):\n",
        "  for i in range(len(centroid)):\n",
        "    cluster_filter = cluster.loc[cluster['Cluster'] == 'Cluster ' + str(i+1)]\n",
        "    centroid[i] = cluster_filter.iloc[:,:-1].mean()\n",
        "  return centroid"
      ],
      "execution_count": 25,
      "outputs": []
    },
    {
      "cell_type": "code",
      "metadata": {
        "id": "t-K2VIxcIQoM"
      },
      "source": [
        "# Untuk mengecek posisi centroid lama\n",
        "def check(a,b):\n",
        "  cek = True\n",
        "  for i in range(len(a)):\n",
        "    for j in range(len(a[i])):\n",
        "      if a[i][j] != b[i][j]:\n",
        "        cek = False\n",
        "        break\n",
        "  return cek"
      ],
      "execution_count": 26,
      "outputs": []
    },
    {
      "cell_type": "code",
      "metadata": {
        "id": "5AWbrcAvIUob"
      },
      "source": [
        "# Fungsi KMeans\n",
        "def kmeans(norm_df_scalled, k):\n",
        "  clustering = norm_df_scalled.copy()\n",
        "  clustering['Cluster'] = np.nan\n",
        "\n",
        "# Memilih centroid secara random\n",
        "  k_list = []\n",
        "  for i in range(k):  \n",
        "    k_list.append(norm_df_scalled.iloc[np.random.randint(0, norm_df_scalled.shape[0])])\n",
        "   \n",
        "  while True: \n",
        "    jarak_list = []\n",
        "    for j in range(len(df)):  \n",
        "      temp = k_list.copy()\n",
        "      jarak = Euclidean(norm_df_scalled.iloc[j], k_list[0])\n",
        "      clustering.loc[j, 'Cluster'] = 'Cluster 1' \n",
        "      jarak_list.append(jarak)\n",
        "\n",
        "      for k in range(len(k_list) - 1):  # Menghitung jarak ke setiap centroid\n",
        "        if jarak > Euclidean(norm_df_scalled.iloc[j], k_list[k+1]):\n",
        "          jarak = Euclidean(norm_df_scalled.iloc[j], k_list[k+1])\n",
        "          clustering.loc[j, 'Cluster'] = 'Cluster ' + str(k+2)\n",
        "          jarak_list[j] = jarak\n",
        "\n",
        "    k_list = update(k_list, clustering)\n",
        "\n",
        "    if check(k_list, temp):\n",
        "      break\n",
        "\n",
        "  return(clustering, jarak_list)"
      ],
      "execution_count": 27,
      "outputs": []
    },
    {
      "cell_type": "markdown",
      "metadata": {
        "id": "HGcZWwXvQvIc"
      },
      "source": [
        "Main Program"
      ]
    },
    {
      "cell_type": "code",
      "metadata": {
        "id": "BeV900iSIeoA"
      },
      "source": [
        "clust = []\n",
        "jarak_list = []\n",
        "for i in range(4):\n",
        "  salju, jarak = kmeans(norm_df_scalled[['SuhuMax', 'Suhu3pm']], i+1)\n",
        "  clust.append(salju)\n",
        "  jarak_list.append(jarak)"
      ],
      "execution_count": 28,
      "outputs": []
    },
    {
      "cell_type": "code",
      "metadata": {
        "id": "RNC98ckRIqOO",
        "colab": {
          "base_uri": "https://localhost:8080/",
          "height": 419
        },
        "outputId": "7bfc4b4a-0c56-4f49-a1ea-2cced0128bbb"
      },
      "source": [
        "salju"
      ],
      "execution_count": 29,
      "outputs": [
        {
          "output_type": "execute_result",
          "data": {
            "text/html": [
              "<div>\n",
              "<style scoped>\n",
              "    .dataframe tbody tr th:only-of-type {\n",
              "        vertical-align: middle;\n",
              "    }\n",
              "\n",
              "    .dataframe tbody tr th {\n",
              "        vertical-align: top;\n",
              "    }\n",
              "\n",
              "    .dataframe thead th {\n",
              "        text-align: right;\n",
              "    }\n",
              "</style>\n",
              "<table border=\"1\" class=\"dataframe\">\n",
              "  <thead>\n",
              "    <tr style=\"text-align: right;\">\n",
              "      <th></th>\n",
              "      <th>SuhuMax</th>\n",
              "      <th>Suhu3pm</th>\n",
              "      <th>Cluster</th>\n",
              "    </tr>\n",
              "  </thead>\n",
              "  <tbody>\n",
              "    <tr>\n",
              "      <th>0</th>\n",
              "      <td>0.383743</td>\n",
              "      <td>0.391555</td>\n",
              "      <td>Cluster 4</td>\n",
              "    </tr>\n",
              "    <tr>\n",
              "      <th>1</th>\n",
              "      <td>0.412098</td>\n",
              "      <td>0.401152</td>\n",
              "      <td>Cluster 4</td>\n",
              "    </tr>\n",
              "    <tr>\n",
              "      <th>2</th>\n",
              "      <td>0.695652</td>\n",
              "      <td>0.671785</td>\n",
              "      <td>Cluster 2</td>\n",
              "    </tr>\n",
              "    <tr>\n",
              "      <th>3</th>\n",
              "      <td>0.553875</td>\n",
              "      <td>0.548944</td>\n",
              "      <td>Cluster 1</td>\n",
              "    </tr>\n",
              "    <tr>\n",
              "      <th>4</th>\n",
              "      <td>0.474480</td>\n",
              "      <td>0.451056</td>\n",
              "      <td>Cluster 3</td>\n",
              "    </tr>\n",
              "    <tr>\n",
              "      <th>...</th>\n",
              "      <td>...</td>\n",
              "      <td>...</td>\n",
              "      <td>...</td>\n",
              "    </tr>\n",
              "    <tr>\n",
              "      <th>127272</th>\n",
              "      <td>0.578450</td>\n",
              "      <td>0.564299</td>\n",
              "      <td>Cluster 1</td>\n",
              "    </tr>\n",
              "    <tr>\n",
              "      <th>127273</th>\n",
              "      <td>0.593573</td>\n",
              "      <td>0.596929</td>\n",
              "      <td>Cluster 1</td>\n",
              "    </tr>\n",
              "    <tr>\n",
              "      <th>127274</th>\n",
              "      <td>0.523629</td>\n",
              "      <td>0.525912</td>\n",
              "      <td>Cluster 3</td>\n",
              "    </tr>\n",
              "    <tr>\n",
              "      <th>127275</th>\n",
              "      <td>0.595463</td>\n",
              "      <td>0.591171</td>\n",
              "      <td>Cluster 1</td>\n",
              "    </tr>\n",
              "    <tr>\n",
              "      <th>127276</th>\n",
              "      <td>0.391304</td>\n",
              "      <td>0.399232</td>\n",
              "      <td>Cluster 4</td>\n",
              "    </tr>\n",
              "  </tbody>\n",
              "</table>\n",
              "<p>127277 rows × 3 columns</p>\n",
              "</div>"
            ],
            "text/plain": [
              "         SuhuMax   Suhu3pm    Cluster\n",
              "0       0.383743  0.391555  Cluster 4\n",
              "1       0.412098  0.401152  Cluster 4\n",
              "2       0.695652  0.671785  Cluster 2\n",
              "3       0.553875  0.548944  Cluster 1\n",
              "4       0.474480  0.451056  Cluster 3\n",
              "...          ...       ...        ...\n",
              "127272  0.578450  0.564299  Cluster 1\n",
              "127273  0.593573  0.596929  Cluster 1\n",
              "127274  0.523629  0.525912  Cluster 3\n",
              "127275  0.595463  0.591171  Cluster 1\n",
              "127276  0.391304  0.399232  Cluster 4\n",
              "\n",
              "[127277 rows x 3 columns]"
            ]
          },
          "metadata": {
            "tags": []
          },
          "execution_count": 29
        }
      ]
    },
    {
      "cell_type": "markdown",
      "metadata": {
        "id": "LzI0qLXnRH_T"
      },
      "source": [
        "Plotting"
      ]
    },
    {
      "cell_type": "code",
      "metadata": {
        "id": "r8g6AGfjJ8fU",
        "colab": {
          "base_uri": "https://localhost:8080/",
          "height": 516
        },
        "outputId": "a513e934-4e71-4f36-9efe-d35779cf1540"
      },
      "source": [
        "cluster1 = salju.loc[salju['Cluster'] == 'Cluster 1']\n",
        "cluster2 = salju.loc[salju['Cluster'] == 'Cluster 2']\n",
        "cluster3 = salju.loc[salju['Cluster'] == 'Cluster 3']\n",
        "\n",
        "plt.figure(figsize=(16, 8))\n",
        "plt.title('Clustering dengan Atribut SuhuMax dan Suhu3pm')\n",
        "plt.scatter(cluster1['SuhuMax'], cluster1['Suhu3pm'], color='Red', label = 'Cluster 1')\n",
        "plt.scatter(cluster2['SuhuMax'], cluster2['Suhu3pm'], color ='Blue', label = 'Cluster 2')\n",
        "plt.scatter(cluster3['SuhuMax'], cluster3['Suhu3pm'], color = 'Green', label = 'Cluster 3')"
      ],
      "execution_count": 31,
      "outputs": [
        {
          "output_type": "execute_result",
          "data": {
            "text/plain": [
              "<matplotlib.collections.PathCollection at 0x7f00cc51b690>"
            ]
          },
          "metadata": {
            "tags": []
          },
          "execution_count": 31
        },
        {
          "output_type": "display_data",
          "data": {
            "image/png": "[encoded data removed]",
            "text/plain": [
              "<Figure size 1152x576 with 1 Axes>"
            ]
          },
          "metadata": {
            "tags": [],
            "needs_background": "light"
          }
        }
      ]
    },
    {
      "cell_type": "markdown",
      "metadata": {
        "id": "W91EbsOpRJzd"
      },
      "source": [
        "#**Evaluasi**"
      ]
    },
    {
      "cell_type": "code",
      "metadata": {
        "id": "mizN97TrRNnl"
      },
      "source": [
        "# SSE\n",
        "def sse(data):\n",
        "  hasil = 0\n",
        "  for i in range(len(data)):\n",
        "    hasil = hasil+(data[i]**2)\n",
        "\n",
        "  return hasil\n"
      ],
      "execution_count": 32,
      "outputs": []
    },
    {
      "cell_type": "code",
      "metadata": {
        "id": "Yi6l1rqqhdvp",
        "colab": {
          "base_uri": "https://localhost:8080/"
        },
        "outputId": "2d07f2c0-be2c-4af5-ff4d-e9939757fd06"
      },
      "source": [
        "# Menampilkan list nilai SSE\n",
        "sse_list = []\n",
        "k_list = []\n",
        "for i in range(4):\n",
        "  sse_list.append(sse(jarak_list[i]))\n",
        "  k_list.append(i+1)\n",
        "\n",
        "sse_list"
      ],
      "execution_count": 33,
      "outputs": [
        {
          "output_type": "execute_result",
          "data": {
            "text/plain": [
              "[4479.233860543132, 1549.5573853600802, 844.4466109320061, 556.5878112470695]"
            ]
          },
          "metadata": {
            "tags": []
          },
          "execution_count": 33
        }
      ]
    },
    {
      "cell_type": "code",
      "metadata": {
        "id": "pHmbe_4Ig3OT",
        "colab": {
          "base_uri": "https://localhost:8080/",
          "height": 282
        },
        "outputId": "d773787c-f367-4893-a1ee-ea1f830563fa"
      },
      "source": [
        "plt.plot(k_list, sse_list, color='black', linewidth = 3, marker='o', markerfacecolor='Blue', markersize=12)\n",
        "plt.show"
      ],
      "execution_count": 34,
      "outputs": [
        {
          "output_type": "execute_result",
          "data": {
            "text/plain": [
              "<function matplotlib.pyplot.show>"
            ]
          },
          "metadata": {
            "tags": []
          },
          "execution_count": 34
        },
        {
          "output_type": "display_data",
          "data": {
            "image/png": "[encoded data removed]",
            "text/plain": [
              "<Figure size 432x288 with 1 Axes>"
            ]
          },
          "metadata": {
            "tags": [],
            "needs_background": "light"
          }
        }
      ]
    }
  ]
}